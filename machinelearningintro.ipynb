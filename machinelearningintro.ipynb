{
 "cells": [
  {
   "cell_type": "markdown",
   "id": "50a4bb08",
   "metadata": {},
   "source": [
    "Introduction to machine learning"
   ]
  },
  {
   "cell_type": "markdown",
   "id": "0f1d4799",
   "metadata": {},
   "source": [
    "Mean, median, mode, standard deviation"
   ]
  },
  {
   "cell_type": "code",
   "execution_count": 7,
   "id": "6c62c580",
   "metadata": {},
   "outputs": [
    {
     "name": "stdout",
     "output_type": "stream",
     "text": [
      "Mean:  89.76923076923077\n",
      "Median:  87.0\n",
      "Mode:  ModeResult(mode=array([86]), count=array([3]))\n",
      "Standard deviation:  9.258292301032677\n",
      "Variance:  85.71597633136093\n",
      "70. Percentile:  90.39999999999999\n"
     ]
    }
   ],
   "source": [
    "import numpy\n",
    "from scipy import stats\n",
    "speed = [99,86,87,88,111,86,103,87,94,78,77,85,86]\n",
    "mean = numpy.mean(speed)\n",
    "median = numpy.median(speed)\n",
    "mode = stats.mode(speed)\n",
    "std = numpy.std(speed)\n",
    "variance = numpy.var(speed)\n",
    "percentile70 = numpy.percentile(speed, 70)\n",
    "print ('Mean: ',mean)\n",
    "print ('Median: ',median)\n",
    "print ('Mode: ',mode)\n",
    "print ('Standard deviation: ',std)\n",
    "print ('Variance: ',variance)\n",
    "print ('70. Percentile: ',percentile70)"
   ]
  },
  {
   "cell_type": "markdown",
   "id": "a1a0c9a3",
   "metadata": {},
   "source": [
    "Histogram"
   ]
  },
  {
   "cell_type": "code",
   "execution_count": null,
   "id": "7bf2c1c1",
   "metadata": {},
   "outputs": [],
   "source": [
    "import numpy\n",
    "import matplotlib.pyplot as plt\n",
    "\n",
    "x = numpy.random.uniform(0.0, 5.0, 250)\n",
    "\n",
    "plt.hist(x, 5)\n",
    "plt.show()"
   ]
  },
  {
   "cell_type": "markdown",
   "id": "3f9d52bc",
   "metadata": {},
   "source": [
    "Normal Distribution"
   ]
  },
  {
   "cell_type": "code",
   "execution_count": null,
   "id": "5fe379bd",
   "metadata": {},
   "outputs": [],
   "source": [
    "import numpy\n",
    "import matplotlib.pyplot as plt\n",
    "x = numpy.random.normal(5.0, 1.0, 100000)\n",
    "\n",
    "plt.hist(x, 100)\n",
    "plt.show()"
   ]
  },
  {
   "cell_type": "markdown",
   "id": "b158fbed",
   "metadata": {},
   "source": [
    "Scatter Plot"
   ]
  },
  {
   "cell_type": "code",
   "execution_count": null,
   "id": "07e5913f",
   "metadata": {},
   "outputs": [],
   "source": [
    "import numpy\n",
    "import matplotlib.pyplot as plt\n",
    "x = numpy.random.normal(5.0, 1.0, 1000)\n",
    "y = numpy.random.normal(10.0, 2.0, 1000)\n",
    "\n",
    "plt.scatter(x, y)\n",
    "plt.show()"
   ]
  },
  {
   "cell_type": "markdown",
   "id": "b3b06060",
   "metadata": {},
   "source": [
    "Linear Regression"
   ]
  },
  {
   "cell_type": "code",
   "execution_count": 12,
   "id": "44556ef1",
   "metadata": {},
   "outputs": [
    {
     "data": {
      "image/png": "[encoded data removed]",
      "text/plain": [
       "<Figure size 432x288 with 1 Axes>"
      ]
     },
     "metadata": {
      "needs_background": "light"
     },
     "output_type": "display_data"
    },
    {
     "name": "stdout",
     "output_type": "stream",
     "text": [
      "The coefficient of correlation (r):  -0.758591524376155\n",
      "The speed of 10 years old car:  85.59308314937454\n"
     ]
    }
   ],
   "source": [
    "import matplotlib.pyplot as plt\n",
    "from scipy import stats\n",
    "\n",
    "x = [5,7,8,7,2,17,2,9,4,11,12,9,6]\n",
    "y = [99,86,87,88,111,86,103,87,94,78,77,85,86]\n",
    "\n",
    "slope, intercept, r, p, std_err = stats.linregress(x, y)\n",
    "\n",
    "def myfunc(x):\n",
    "  return slope * x + intercept\n",
    "\n",
    "mymodel = list(map(myfunc, x))\n",
    "\n",
    "plt.scatter(x, y)\n",
    "\n",
    "#draw the line of Linear Regression\n",
    "plt.plot(x, mymodel)\n",
    "plt.show()\n",
    "\n",
    "#check how data fit a linear regression\n",
    "slope, intercept, r, p, std_err = stats.linregress(x, y)\n",
    "print ('The coefficient of correlation (r): ', r)\n",
    "\n",
    "#use the function to predict the speed of 10 years old car\n",
    "speed = myfunc(10)\n",
    "print ('The speed of 10 years old car: ', speed)"
   ]
  },
  {
   "cell_type": "markdown",
   "id": "4ee05056",
   "metadata": {},
   "source": [
    "Polynomial Regression"
   ]
  },
  {
   "cell_type": "code",
   "execution_count": 15,
   "id": "5692e37f",
   "metadata": {},
   "outputs": [
    {
     "data": {
      "image/png": "[encoded data removed]",
      "text/plain": [
       "<Figure size 432x288 with 1 Axes>"
      ]
     },
     "metadata": {
      "needs_background": "light"
     },
     "output_type": "display_data"
    },
    {
     "name": "stdout",
     "output_type": "stream",
     "text": [
      "r-squared value : 0.9432150416451025\n",
      "The speed of a car passing at 17 P.M:  88.87331269697991\n"
     ]
    }
   ],
   "source": [
    "import numpy\n",
    "import matplotlib.pyplot as plt\n",
    "from sklearn.metrics import r2_score\n",
    "\n",
    "x = [1,2,3,5,6,7,8,9,10,12,13,14,15,16,18,19,21,22]\n",
    "y = [100,90,80,60,60,55,60,65,70,70,75,76,78,79,90,99,99,100]\n",
    "\n",
    "mymodel = numpy.poly1d(numpy.polyfit(x, y, 3))\n",
    "\n",
    "myline = numpy.linspace(1, 22, 100)\n",
    "\n",
    "plt.scatter(x, y)\n",
    "plt.plot(myline, mymodel(myline))\n",
    "plt.show()\n",
    "\n",
    "#check how data fit the polynomial regression\n",
    "mymodel = numpy.poly1d(numpy.polyfit(x, y, 3))\n",
    "print('r-squared value :', r2_score(y, mymodel(x)))\n",
    "\n",
    "#use the function to predict the speed of a car passing at 17 P.M\n",
    "speed = mymodel(17)\n",
    "print ('The speed of a car passing at 17 P.M: ', speed)"
   ]
  },
  {
   "cell_type": "markdown",
   "id": "3a138672",
   "metadata": {},
   "source": [
    "Multiple regression"
   ]
  },
  {
   "cell_type": "code",
   "execution_count": 21,
   "id": "d7569eee",
   "metadata": {},
   "outputs": [
    {
     "name": "stdout",
     "output_type": "stream",
     "text": [
      "A regression object to predict CO2 values based on a car's weight and volume\n",
      "CO2 emission when weight=2300kg and volume=1300cm3:  [107.2087328]\n",
      "coefficient value of weight and volume:  [0.00755095 0.00780526]\n",
      "If weight increase by 1kg, CO2 emission increased by  0.00755094727030069 g\n",
      "If volume increase by 1cm3, CO2 emission increased by  0.007805257527747127 g\n"
     ]
    }
   ],
   "source": [
    "import pandas\n",
    "from sklearn import linear_model\n",
    "\n",
    "print (\"A regression object to predict CO2 values based on a car's weight and volume\")\n",
    "df = pandas.read_csv(\"cars.csv\")\n",
    "\n",
    "X = df[['Weight', 'Volume']]\n",
    "y = df['CO2']\n",
    "\n",
    "regr = linear_model.LinearRegression()\n",
    "# fit = fills the regression object with data that describes the relationship\n",
    "regr.fit(X.values, y.values)\n",
    "\n",
    "#predict the CO2 emission of a car where the weight is 2300kg, and the volume is 1300cm3:\n",
    "predictedCO2 = regr.predict([[2300, 1300]])\n",
    "\n",
    "print('CO2 emission when weight=2300kg and volume=1300cm3: ',predictedCO2)\n",
    "\n",
    "#coefficient = factor that describes the relationship with an unknown variable\n",
    "print('coefficient value of weight and volume: ', regr.coef_)\n",
    "print ('If weight increase by 1kg, CO2 emission increased by ',regr.coef_[0], 'g')\n",
    "print ('If volume increase by 1cm3, CO2 emission increased by ',regr.coef_[1], 'g')\n",
    "\n",
    "## use this to scale them so that both have comparable values / can be compared easier\n",
    "## from sklearn.preprocessing import StandardScaler\n",
    "## scale = StandardScaler()\n",
    "## scaledX = scale.fit_transform(X)\n",
    "## regr.fit(scaledX, y)\n",
    "## scaled = scale.transform([[2300, 1.3]])\n",
    "\n",
    "## predictedCO2 = regr.predict([scaled[0]])\n",
    "## print(predictedCO2)"
   ]
  },
  {
   "cell_type": "markdown",
   "id": "73444f54",
   "metadata": {},
   "source": [
    "What is Train/Test\n",
    "Train/Test is a method to measure the accuracy of your model.\n",
    "\n",
    "It is called Train/Test because you split the the data set into two sets: a training set and a testing set.\n",
    "\n",
    "80% for training, and 20% for testing.\n",
    "\n",
    "You train the model using the training set.\n",
    "\n",
    "You test the model using the testing set.\n",
    "\n",
    "Train the model means create the model.\n",
    "\n",
    "Test the model means test the accuracy of the model."
   ]
  },
  {
   "cell_type": "code",
   "execution_count": 26,
   "id": "cc4d36a8",
   "metadata": {},
   "outputs": [
    {
     "data": {
      "image/png": "[encoded data removed]",
      "text/plain": [
       "<Figure size 432x288 with 1 Axes>"
      ]
     },
     "metadata": {
      "needs_background": "light"
     },
     "output_type": "display_data"
    },
    {
     "name": "stdout",
     "output_type": "stream",
     "text": [
      "r-squared value (train data):  0.79886455446298\n",
      "r-squared value (test data):  0.8086921460343566\n",
      "how much a person spend for staying for 5 minutes (dollars):  22.8796259181172\n"
     ]
    }
   ],
   "source": [
    "import numpy\n",
    "import matplotlib.pyplot as plt\n",
    "numpy.random.seed(2)\n",
    "\n",
    "x = numpy.random.normal(3, 1, 100)\n",
    "y = numpy.random.normal(150, 40, 100) / x\n",
    "\n",
    "train_x = x[:80]\n",
    "train_y = y[:80]\n",
    "\n",
    "test_x = x[80:]\n",
    "test_y = y[80:]\n",
    "\n",
    "mymodel = numpy.poly1d(numpy.polyfit(train_x, train_y, 4))\n",
    "\n",
    "myline = numpy.linspace(0, 6, 100)\n",
    "\n",
    "plt.scatter(train_x, train_y)\n",
    "plt.plot(myline, mymodel(myline))\n",
    "plt.show()\n",
    "\n",
    "#check how data fit the polynomial regression (train data)\n",
    "r2 = r2_score(train_y, mymodel(train_x))\n",
    "print('r-squared value (train data): ',r2)\n",
    "\n",
    "#check how data fit the polynomial regression (test data)\n",
    "r2 = r2_score(test_y, mymodel(test_x))\n",
    "print('r-squared value (test data): ',r2)\n",
    "\n",
    "#predict values (how much a person spend for staying for 5 minutes)\n",
    "print('how much a person spend for staying for 5 minutes (dollars): ', mymodel(5))"
   ]
  },
  {
   "cell_type": "markdown",
   "id": "a744eeec",
   "metadata": {},
   "source": [
    "Decision Tree (data has to be numerical)"
   ]
  },
  {
   "cell_type": "code",
   "execution_count": 35,
   "id": "c8db40c2",
   "metadata": {},
   "outputs": [
    {
     "data": {
      "image/png": "[encoded data removed]",
      "text/plain": [
       "<Figure size 432x288 with 1 Axes>"
      ]
     },
     "metadata": {
      "needs_background": "light"
     },
     "output_type": "display_data"
    }
   ],
   "source": [
    "import pandas\n",
    "from sklearn import tree\n",
    "import pydotplus\n",
    "from sklearn.tree import DecisionTreeClassifier\n",
    "import matplotlib.pyplot as plt\n",
    "\n",
    "Age = [36,42,23,52,43,44,66,35,52,35,24,18,45]\n",
    "Experience = [10,12,4,4,21,14,3,14,13,5,3,3,9]\n",
    "Rank = [9,4,6,4,8,5,7,9,7,9,5,7,9]\n",
    "Nationality = ['UK','USA','N','USA','USA','UK','N','UK','N','N','USA','UK','UK']\n",
    "Go = ['NO','NO','NO','NO','YES','NO','YES','YES','YES','YES','NO','YES','YES']\n",
    "df = pandas.DataFrame(list(zip(Age, Experience, Rank,Nationality, Go)),columns=['Age', 'Experience', 'Rank', 'Nationality','Go'])\n",
    "\n",
    "# change string values to numerical values\n",
    "d = {'UK': 0, 'USA': 1, 'N': 2}\n",
    "df['Nationality'] = df['Nationality'].map(d)\n",
    "d = {'YES': 1, 'NO': 0}\n",
    "df['Go'] = df['Go'].map(d)\n",
    "\n",
    "# set feature (X) and target (y) columns\n",
    "features = ['Age', 'Experience', 'Rank', 'Nationality']\n",
    "X = df[features]\n",
    "y = df['Go']\n",
    "\n",
    "#create decision tree\n",
    "dtree = DecisionTreeClassifier()\n",
    "dtree = dtree.fit(X, y)\n",
    "#tree.plot_tree(dtree, feature_names=features, filled=True)\n",
    "#plt.show()"
   ]
  },
  {
   "cell_type": "markdown",
   "id": "ce650e56",
   "metadata": {},
   "source": [
    "Confusion Matrix"
   ]
  },
  {
   "cell_type": "code",
   "execution_count": 38,
   "id": "b37ec723",
   "metadata": {},
   "outputs": [
    {
     "data": {
      "image/png": "[encoded data removed]",
      "text/plain": [
       "<Figure size 432x288 with 2 Axes>"
      ]
     },
     "metadata": {
      "needs_background": "light"
     },
     "output_type": "display_data"
    },
    {
     "name": "stdout",
     "output_type": "stream",
     "text": [
      "{'Accuracy': 0.831, 'Precision': 0.8972677595628415, 'Sensitivity_recall': 0.9162946428571429, 'Specificity': 0.09615384615384616, 'F1_score': 0.9066813914964108}\n"
     ]
    }
   ],
   "source": [
    "import matplotlib.pyplot as plt\n",
    "import numpy\n",
    "from sklearn import metrics\n",
    "\n",
    "actual = numpy.random.binomial(1,.9,size = 1000)\n",
    "predicted = numpy.random.binomial(1,.9,size = 1000)\n",
    "\n",
    "confusion_matrix = metrics.confusion_matrix(actual, predicted)\n",
    "\n",
    "cm_display = metrics.ConfusionMatrixDisplay(confusion_matrix = confusion_matrix, display_labels = [False, True])\n",
    "\n",
    "cm_display.plot()\n",
    "plt.show()\n",
    "\n",
    "Accuracy = metrics.accuracy_score(actual, predicted)\n",
    "Precision = metrics.precision_score(actual, predicted)\n",
    "Sensitivity_recall = metrics.recall_score(actual, predicted)\n",
    "Specificity = metrics.recall_score(actual, predicted, pos_label=0)\n",
    "F1_score = metrics.f1_score(actual, predicted)\n",
    "\n",
    "#metrics\n",
    "print({\"Accuracy\":Accuracy,\"Precision\":Precision,\"Sensitivity_recall\":Sensitivity_recall,\"Specificity\":Specificity,\"F1_score\":F1_score})\n"
   ]
  },
  {
   "cell_type": "markdown",
   "id": "707d99ef",
   "metadata": {},
   "source": [
    "Hierarchical Clustering (dendogram)"
   ]
  },
  {
   "cell_type": "code",
   "execution_count": 39,
   "id": "26698e14",
   "metadata": {},
   "outputs": [
    {
     "data": {
      "image/png": "[encoded data removed]",
      "text/plain": [
       "<Figure size 432x288 with 1 Axes>"
      ]
     },
     "metadata": {
      "needs_background": "light"
     },
     "output_type": "display_data"
    }
   ],
   "source": [
    "import numpy as np\n",
    "import matplotlib.pyplot as plt\n",
    "from scipy.cluster.hierarchy import dendrogram, linkage\n",
    "\n",
    "x = [4, 5, 10, 4, 3, 11, 14 , 6, 10, 12]\n",
    "y = [21, 19, 24, 17, 16, 25, 24, 22, 21, 21]\n",
    "\n",
    "data = list(zip(x, y))\n",
    "\n",
    "linkage_data = linkage(data, method='ward', metric='euclidean')\n",
    "dendrogram(linkage_data)\n",
    "\n",
    "plt.show()"
   ]
  },
  {
   "cell_type": "markdown",
   "id": "e5f3e715",
   "metadata": {},
   "source": [
    "Hierarchical Clustering (2D Dot)"
   ]
  },
  {
   "cell_type": "code",
   "execution_count": 40,
   "id": "9f3a1f06",
   "metadata": {},
   "outputs": [
    {
     "data": {
      "image/png": "[encoded data removed]",
      "text/plain": [
       "<Figure size 432x288 with 1 Axes>"
      ]
     },
     "metadata": {
      "needs_background": "light"
     },
     "output_type": "display_data"
    }
   ],
   "source": [
    "import numpy as np\n",
    "import matplotlib.pyplot as plt\n",
    "from sklearn.cluster import AgglomerativeClustering\n",
    "\n",
    "x = [4, 5, 10, 4, 3, 11, 14 , 6, 10, 12]\n",
    "y = [21, 19, 24, 17, 16, 25, 24, 22, 21, 21]\n",
    "\n",
    "data = list(zip(x, y))\n",
    "\n",
    "hierarchical_cluster = AgglomerativeClustering(n_clusters=2, affinity='euclidean', linkage='ward')\n",
    "labels = hierarchical_cluster.fit_predict(data)\n",
    "\n",
    "plt.scatter(x, y, c=labels)\n",
    "plt.show()"
   ]
  },
  {
   "cell_type": "markdown",
   "id": "c861b5df",
   "metadata": {},
   "source": [
    "Logistic Regression"
   ]
  },
  {
   "cell_type": "code",
   "execution_count": 43,
   "id": "a0995844",
   "metadata": {},
   "outputs": [
    {
     "name": "stdout",
     "output_type": "stream",
     "text": [
      "predict if the tumor cancerous when the size is 3.46mm:  [0]\n"
     ]
    }
   ],
   "source": [
    "import numpy\n",
    "from sklearn import linear_model\n",
    "\n",
    "#Reshaped for Logistic function.\n",
    "X = numpy.array([3.78, 2.44, 2.09, 0.14, 1.72, 1.65, 4.92, 4.37, 4.96, 4.52, 3.69, 5.88]).reshape(-1,1)\n",
    "y = numpy.array([0, 0, 0, 0, 0, 0, 1, 1, 1, 1, 1, 1])\n",
    "\n",
    "logr = linear_model.LogisticRegression()\n",
    "logr.fit(X,y)\n",
    "\n",
    "#predict if tumor is cancerous where the size is 3.46mm:\n",
    "predicted = logr.predict(numpy.array([3.46]).reshape(-1,1))\n",
    "print('predict if the tumor cancerous when the size is 3.46mm: ', predicted)"
   ]
  },
  {
   "cell_type": "code",
   "execution_count": null,
   "id": "69666c56",
   "metadata": {},
   "outputs": [],
   "source": []
  }
 ],
 "metadata": {
  "kernelspec": {
   "display_name": "Python 3 (ipykernel)",
   "language": "python",
   "name": "python3"
  },
  "language_info": {
   "codemirror_mode": {
    "name": "ipython",
    "version": 3
   },
   "file_extension": ".py",
   "mimetype": "text/x-python",
   "name": "python",
   "nbconvert_exporter": "python",
   "pygments_lexer": "ipython3",
   "version": "3.8.9"
  }
 },
 "nbformat": 4,
 "nbformat_minor": 5
}
