{
 "cells": [
  {
   "cell_type": "code",
   "execution_count": null,
   "id": "c9ad7e3a-996a-42c8-9cf4-7634e2ea0bca",
   "metadata": {},
   "outputs": [],
   "source": []
  },
  {
   "cell_type": "markdown",
   "id": "9c3992ec-4796-41d7-97b5-671789172f1b",
   "metadata": {},
   "source": [
    "# 3.0 Python Programming and Libraries\n",
    "\n",
    "**Learning Objectives:** By the end of the lesson, students should have a basic understanding of the key Python libraries used for data analysis, how to use them for simple tasks, and where to go for further learning.\n",
    "\n",
    "Python libraries are collections of pre-written code that provide functions, classes, and modules to help with specific tasks, making development faster and easier. These libraries allow you to avoid reinventing the wheel, as they offer well-tested, optimized, and reusable code to handle common problems or tasks.\n",
    "\n",
    "There are many different types of Python libraries, depending on the domain or purpose. Below are some categories and examples of popular libraries in Python:\n",
    "\n",
    "**Data Manipulation and Analysis**\n",
    "These libraries help you manage, analyze, and process data, especially useful in data science, machine learning, and statistical analysis.\n",
    "* Pandas: Provides data structures like DataFrame for handling structured data, such as CSV files, databases, and Excel sheets. `Example: import pandas as pd`\n",
    "* NumPy: Used for numerical computing. It provides support for arrays, matrices, and a large collection of mathematical functions. `Example: import numpy as np`\n",
    "* SciPy: Builds on NumPy and provides algorithms for optimization, integration, interpolation, eigenvalue problems, and other advanced mathematics. `Example: from scipy import stats`\n",
    "\n",
    "**Visualization**\n",
    "These libraries help you create charts, plots, and other visualizations to communicate data insights.\n",
    "* Matplotlib: The most commonly used library for creating static, animated, and interactive visualizations in Python. `Example: import matplotlib.pyplot as plt`\n",
    "* Seaborn: Built on top of Matplotlib, it provides a higher-level interface for creating more attractive and informative statistical graphics. `Example: import seaborn as sns`\n",
    "*Plotly: Used for creating interactive plots and dashboards. `Example: import plotly.express as px`\n",
    "\n",
    "**Machine Learning and Artificial Intelligence**\n",
    "These libraries provide tools and algorithms for building, training, and deploying machine learning models.\n",
    "* Scikit-learn: A popular machine learning library for classical machine learning algorithms like regression, classification, clustering, and dimensionality reduction. `Example: from sklearn.ensemble import RandomForestClassifier`\n",
    "* TensorFlow: A powerful library for deep learning and neural networks, often used for training large-scale machine learning models. `Example: import tensorflow as tf`\n",
    "* Keras: High-level neural networks API, running on top of TensorFlow, designed to be simple and user-friendly. ` Example: import keras` \n",
    "* PyTorch: Another deep learning framework, known for its flexibility and ease of use, especially in research settings. `Example: import torch`\n",
    "  \n",
    "**Web Development**\n",
    "Python has libraries for both backend and frontend web development.\n",
    "* Flask: A lightweight web framework for building small to medium-sized web applications. `Example: from flask import Flask`\n",
    "* Django: A high-level web framework that promotes rapid development and clean, pragmatic design. `Example: import django`\n",
    "* FastAPI: A modern, fast web framework for building APIs with Python 3.7+ based on standard Python type hints. `Example: from fastapi import FastAPI`\n",
    "  \n",
    "**Data Serialization**\n",
    "These libraries help with reading and writing data in various formats such as JSON, CSV, and XML.\n",
    "\n",
    "* JSON: Built-in Python module to handle JSON data serialization. `Example: import json`\n",
    "* Pickle: A built-in library for serializing and deserializing Python objects (often used for saving machine learning models). `Example: import pickle`\n",
    "* CSV: Built-in Python module for reading and writing CSV files. `Example: import csv`\n",
    "\n",
    "**Web Scraping**\n",
    "Libraries to extract data from websites.\n",
    "\n",
    "* BeautifulSoup: A library for parsing HTML and XML documents, used for web scraping. `Example: from bs4 import BeautifulSoup`\n",
    "* Scrapy: A powerful framework for extracting data from websites and processing it as structured data. `Example: import scrapy`\n",
    "* Selenium: A tool for automating web browsers, useful for scraping dynamic web pages (JavaScript-heavy sites). `Example: from selenium import webdriver`\n",
    "\n",
    "**File I/O and System Operations** \n",
    "Libraries for file handling and interacting with the system.\n",
    "\n",
    "* os: Built-in Python module for interacting with the operating system (e.g., file operations, environment variables). `Example: import os`\n",
    "* shutil: Built-in module for high-level file operations, like copying or moving files. `Example: import shutil`\n",
    "* glob: For finding all the pathnames matching a specified pattern. `Example: import glob`\n",
    "\n",
    "## 3.1. NumPy (arrays, mathematical operations)\n",
    "NumPy (Numerical Python) is one of the most essential libraries in Python for data science, machine learning, scientific computing, and any domain that involves heavy manipulation of numerical data. It provides powerful tools for working with arrays, matrices, and high-level mathematical functions.\n",
    "\n",
    "### 3.1.1. Common Numpy Functions and Methods\n",
    "**1) Creating NumPy Arrays**\n",
    "\n",
    "NumPy's core data structure is the ndarray (N-dimensional array), which is used to store elements of the same type. You can create arrays from Python lists, tuples, or even using NumPy functions directly.\n",
    "\n",
    "**a) Creating NumPy arrays from Python lists:**"
   ]
  },
  {
   "cell_type": "code",
   "execution_count": null,
   "id": "18fafede-239c-4ce2-ba6a-1f5ee48f8234",
   "metadata": {},
   "outputs": [],
   "source": [
    "import numpy as np\n",
    "\n",
    "# 1D array\n",
    "arr1 = np.array([1, 2, 3, 4])\n",
    "\n",
    "# 2D array (Matrix)\n",
    "arr2 = np.array([[1, 2], [3, 4]])\n",
    "print(\"1D array, shape\", arr1.shape)\n",
    "print(arr1)\n",
    "print(\"2D array, shape\", arr2.shape)\n",
    "print(arr2)"
   ]
  },
  {
   "cell_type": "markdown",
   "id": "8e50d3dd-7170-491c-8f92-60c25efe95d8",
   "metadata": {},
   "source": [
    "**b) Creating NumPy arrays from Numpy functions:**"
   ]
  },
  {
   "cell_type": "code",
   "execution_count": null,
   "id": "25822a8b-3511-4a15-91b4-2475f30aa358",
   "metadata": {},
   "outputs": [],
   "source": [
    "# Creating a 1D array with evenly spaced values between 0 and 10\n",
    "arr_linspace = np.linspace(0, 10, 5)  # 5 values between 0 and 10\n",
    "print(\"Linspace Array:\", arr_linspace)\n",
    "\n",
    "# Creating an array of zeros\n",
    "arr_zeros = np.zeros((3, 3))  # 3x3 matrix of zeros\n",
    "print(\"Zeros Array:\\n\", arr_zeros)\n",
    "\n",
    "# Creating an array of ones\n",
    "arr_ones = np.ones((2, 4))  # 2x4 matrix of ones\n",
    "print(\"Ones Array:\\n\", arr_ones)"
   ]
  },
  {
   "cell_type": "markdown",
   "id": "f22334e4-6a83-49dd-9e9d-d7345d966bc5",
   "metadata": {},
   "source": [
    "**2) Indexing and Slicing Arrays**\n",
    "NumPy allows advanced indexing and slicing techniques for extracting or modifying subsets of data.\n",
    "\n",
    "**a) Accessing Single Elements:**"
   ]
  },
  {
   "cell_type": "code",
   "execution_count": null,
   "id": "871210f1-30e6-4cbb-9e40-3fc9e31062b7",
   "metadata": {},
   "outputs": [],
   "source": [
    "arr = np.array([10, 20, 30, 40])\n",
    "print(arr[0])  # Access the first element: Output: 10\n",
    "print(arr[2])  # Access the third element: Output: 30"
   ]
  },
  {
   "cell_type": "markdown",
   "id": "0b350dc4-56bd-4e86-99b8-2562d98a3ea6",
   "metadata": {},
   "source": [
    "**b) Slicing Arrays:**"
   ]
  },
  {
   "cell_type": "code",
   "execution_count": null,
   "id": "7e02f9c7-5bce-4a1c-a7c0-7f53e4b73651",
   "metadata": {},
   "outputs": [],
   "source": [
    "arr = np.array([1, 2, 3, 4, 5])\n",
    "print(arr[1:4])  # Access elements from index 1 to 3: Output: [2 3 4]\n",
    "\n",
    "# Slicing a 2D array\n",
    "arr_2d = np.array([[1, 2, 3], [4, 5, 6], [7, 8, 9]])\n",
    "print(arr_2d[0, 1])  # Access the element in the first row, second column: Output: 2\n",
    "print(arr_2d[:, 1])   # Access all rows in the second column: Output: [2 5 8]"
   ]
  },
  {
   "cell_type": "markdown",
   "id": "9cf0bfd7-bb14-41e2-ad14-d594f5d4611e",
   "metadata": {},
   "source": [
    "**c) Modifying Elements:**"
   ]
  },
  {
   "cell_type": "code",
   "execution_count": null,
   "id": "0de89179-af82-4b23-98a8-9d73bb8a66a7",
   "metadata": {},
   "outputs": [],
   "source": [
    "arr = np.array([1, 2, 3, 4, 5])\n",
    "arr[2] = 10  # Change the third element\n",
    "print(arr)  # Output: [ 1  2 10  4  5]"
   ]
  },
  {
   "cell_type": "markdown",
   "id": "2ea1b0b0-7bcd-47ad-9d68-3470d0b28c60",
   "metadata": {},
   "source": [
    "**3) Array Operations**\n",
    "NumPy allows for fast and efficient element-wise mathematical operations on arrays. This includes addition, subtraction, multiplication, division, and more.\n",
    "\n",
    "NumPy supports vectorized operations, which means you can perform mathematical operations directly on arrays without the need for explicit loops.\n",
    "\n",
    "Common Operations:\n",
    "\n",
    "* Arithmetic: Addition, subtraction, multiplication, division, etc.\n",
    "* Element-wise Operations: Operations on individual elements of the array.\n",
    "* Broadcasting: Allows NumPy to perform element-wise operations on arrays of different shapes.\n",
    "\n",
    "**a) Element-wise Arithmetic:**"
   ]
  },
  {
   "cell_type": "code",
   "execution_count": null,
   "id": "6a3e017b-bd8e-4899-b221-a8f98e47ffcd",
   "metadata": {},
   "outputs": [],
   "source": [
    "arr1 = np.array([1, 2, 3])\n",
    "arr2 = np.array([4, 5, 6])\n",
    "\n",
    "# Element-wise addition\n",
    "sum_array = arr1 + arr2\n",
    "print(\"Sum:\", sum_array)  # Output: [5 7 9]\n",
    "\n",
    "# Element-wise multiplication\n",
    "product_array = arr1 * arr2\n",
    "print(\"Product:\", product_array)  # Output: [ 4 10 18]"
   ]
  },
  {
   "cell_type": "markdown",
   "id": "2c7dc022-5101-4470-87ae-8994b2cf4158",
   "metadata": {},
   "source": [
    "**b) Using Mathematical Functions:**"
   ]
  },
  {
   "cell_type": "code",
   "execution_count": null,
   "id": "aa4948a1-865e-4138-b9db-856af3d690ce",
   "metadata": {},
   "outputs": [],
   "source": [
    "arr = np.array([1, 4, 9, 16])\n",
    "\n",
    "# Square root\n",
    "sqrt_arr = np.sqrt(arr)\n",
    "print(\"Square Root:\", sqrt_arr)  # Output: [1. 2. 3. 4.]\n",
    "\n",
    "# Exponential\n",
    "exp_arr = np.exp(arr)\n",
    "print(\"Exponential:\", exp_arr)  # Output: [2.71828183e+00 5.45981500e+01 8.10308393e+03 8.88611052e+06]\n",
    "\n",
    "# Logarithm (natural log)\n",
    "log_arr = np.log(arr)\n",
    "print(\"Logarithm:\", log_arr)  # Output: [0.         1.38629436 2.19722458 2.77258872]"
   ]
  },
  {
   "cell_type": "markdown",
   "id": "35e93af2-3a10-4a97-afaa-087364c377ed",
   "metadata": {},
   "source": [
    "**4) Linear Algebra with NumPy**\n",
    "NumPy provides a variety of functions for linear algebra tasks, such as matrix multiplication, computing determinants, and finding eigenvalues.\n",
    "\n",
    "**a) Matrix Multiplication:**"
   ]
  },
  {
   "cell_type": "code",
   "execution_count": null,
   "id": "660936b6-85d3-42fb-b481-0578d5497302",
   "metadata": {},
   "outputs": [],
   "source": [
    "A = np.array([[1, 2], [3, 4]])\n",
    "B = np.array([[5, 6], [7, 8]])\n",
    "\n",
    "# Matrix multiplication (dot product)\n",
    "dot_product = np.dot(A, B)\n",
    "print(\"Matrix Product:\\n\", dot_product)"
   ]
  },
  {
   "cell_type": "markdown",
   "id": "788dddbe-d648-4f97-897d-a5ea877efe4e",
   "metadata": {},
   "source": [
    "**b) Matrix Transpose:**"
   ]
  },
  {
   "cell_type": "code",
   "execution_count": null,
   "id": "33f1a224-f1ab-4a5c-8966-d0757be72c74",
   "metadata": {},
   "outputs": [],
   "source": [
    "A = np.array([[1, 2], [3, 4]])\n",
    "transpose_A = np.transpose(A)\n",
    "print(\"Transpose of A:\\n\", transpose_A)  # Output: [[1 3] [2 4]]"
   ]
  },
  {
   "cell_type": "markdown",
   "id": "008ec004-fc2b-40c2-9b75-33f6a6ba094b",
   "metadata": {},
   "source": [
    "**c) Determinant of a Matrix:**"
   ]
  },
  {
   "cell_type": "code",
   "execution_count": null,
   "id": "6c88bfa8-63df-4927-b20e-860ed62481c8",
   "metadata": {},
   "outputs": [],
   "source": [
    "matrix = np.array([[1, 2], [3, 4]])\n",
    "det_matrix = np.linalg.det(matrix)\n",
    "print(\"Determinant of matrix:\", det_matrix)  # Output: -2.0"
   ]
  },
  {
   "cell_type": "markdown",
   "id": "342ac64d-5431-4cda-be4a-80999bf3d457",
   "metadata": {},
   "source": [
    "**d) Eigenvalues and Eigenvectors:**"
   ]
  },
  {
   "cell_type": "code",
   "execution_count": null,
   "id": "19ba46bb-354b-463b-8046-63e131dddc3a",
   "metadata": {},
   "outputs": [],
   "source": [
    "matrix = np.array([[1, 2], [3, 4]])\n",
    "eigenvalues, eigenvectors = np.linalg.eig(matrix)\n",
    "print(\"Eigenvalues:\", eigenvalues)\n",
    "print(\"Eigenvectors:\\n\", eigenvectors)"
   ]
  },
  {
   "cell_type": "markdown",
   "id": "f5c4fbc3-0bb0-4eb3-8e2b-96d19d557442",
   "metadata": {},
   "source": [
    "**5) Broadcasting in NumPy**\n",
    "Broadcasting allows NumPy to perform arithmetic operations on arrays of different shapes by \"stretching\" the smaller array to match the larger array. This eliminates the need for explicit loops and makes code cleaner and more efficient."
   ]
  },
  {
   "cell_type": "code",
   "execution_count": null,
   "id": "81592aff-0607-4e09-b8b7-1395d467e60b",
   "metadata": {},
   "outputs": [],
   "source": [
    "arr1 = np.array([1, 2, 3])  # 1D array\n",
    "arr2 = np.array([[1], [2], [3]])  # 2D array (3x1)\n",
    "\n",
    "# Broadcasting: arr1 is stretched to shape (3x3) and added element-wise to arr2\n",
    "result = arr1 + arr2\n",
    "print(result)  # Output: [[2 3 4] [3 4 5] [4 5 6]]"
   ]
  },
  {
   "cell_type": "code",
   "execution_count": null,
   "id": "0a71e48b-1c1e-429f-8232-05afc3758e79",
   "metadata": {},
   "outputs": [],
   "source": [
    "arr = np.array([1, 2, 3])\n",
    "matrix = np.array([[1, 2, 3], [4, 5, 6]])\n",
    "\n",
    "# Broadcasting adds the array to each row of the matrix\n",
    "result = matrix + arr\n",
    "print(result)"
   ]
  },
  {
   "cell_type": "markdown",
   "id": "32f67bb2-d736-44c3-b37d-bd2be24e5388",
   "metadata": {},
   "source": [
    "**6) Aggregating Functions**\n",
    "NumPy provides many functions for aggregating data, such as calculating the sum, mean, median, standard deviation, and more across arrays.\n",
    "\n",
    "**Calculating sum, mean, std:**"
   ]
  },
  {
   "cell_type": "code",
   "execution_count": null,
   "id": "900dd205-540d-4ae4-ba32-6d30315d3b51",
   "metadata": {},
   "outputs": [],
   "source": [
    "arr = np.array([1, 2, 3, 4, 5])\n",
    "\n",
    "# Sum of elements\n",
    "sum_arr = np.sum(arr)\n",
    "print(\"Sum:\", sum_arr)  # Output: 15\n",
    "\n",
    "# Mean of elements\n",
    "mean_arr = np.mean(arr)\n",
    "print(\"Mean:\", mean_arr)  # Output: 3.0\n",
    "\n",
    "# Standard deviation of elements\n",
    "std_arr = np.std(arr)\n",
    "print(\"Standard Deviation:\", std_arr)  # Output: 1.4142135623730951"
   ]
  },
  {
   "cell_type": "markdown",
   "id": "05561503-aea0-42a2-8100-f6856e6060d9",
   "metadata": {},
   "source": [
    "**7) Reshaping Arrays**\n",
    "NumPy allows you to easily change the shape of an array. This is especially useful in machine learning tasks where data often needs to be reshaped to fit into a model."
   ]
  },
  {
   "cell_type": "code",
   "execution_count": 13,
   "id": "10dcea8b-a5e7-4b48-86a9-fcc059d3e7e5",
   "metadata": {},
   "outputs": [
    {
     "name": "stdout",
     "output_type": "stream",
     "text": [
      "[[1 2 3]\n",
      " [4 5 6]]\n"
     ]
    }
   ],
   "source": [
    "arr = np.array([1, 2, 3, 4, 5, 6])\n",
    "reshaped_arr = arr.reshape(2, 3)  # Reshape to a 2x3 matrix\n",
    "print(\"Reshaped Array:\\n\", reshaped_arr)"
   ]
  },
  {
   "cell_type": "markdown",
   "id": "2a6be6ab-2b43-4a2b-9d5f-d9a618291f67",
   "metadata": {},
   "source": [
    "## 3.2. Pandas (data manipulation, DataFrames)\n",
    "The Pandas library in Python is a powerful, flexible, and easy-to-use open-source data analysis and manipulation tool. It is widely used for working with structured data (e.g., tabular data in the form of spreadsheets, CSV files, or databases). Pandas provides high-level data structures and methods for efficiently manipulating, analyzing, and visualizing data.\n",
    "\n",
    "### 3.2.1. Key Features of Pandas\n",
    "**Data Structures:**\n",
    "\n",
    "* **Series:** A one-dimensional labeled array capable of holding any data type (integers, strings, floats, etc.). It is similar to a Python list or NumPy array but with additional functionality such as indexing and alignment.\n",
    "\n",
    "**Example of a Series:**"
   ]
  },
  {
   "cell_type": "code",
   "execution_count": null,
   "id": "2699b304-3d1d-46df-9c85-cbb4fd658f6b",
   "metadata": {},
   "outputs": [],
   "source": [
    "import pandas as pd\n",
    "\n",
    "data = [1, 2, 3, 4]\n",
    "s = pd.Series(data, index=['a', 'b', 'c', 'd'])\n",
    "print(s)"
   ]
  },
  {
   "cell_type": "markdown",
   "id": "60f8f7ef-1e9c-49e9-8971-ec136f18acba",
   "metadata": {},
   "source": [
    "* **DataFrame:** A two-dimensional labeled data structure with columns of potentially different types (e.g., integers, floats, strings). It is essentially a table (like a spreadsheet or SQL table) where data is organized into rows and columns.\n",
    "\n",
    "**Example of a DataFrame:**"
   ]
  },
  {
   "cell_type": "code",
   "execution_count": null,
   "id": "eb294388-a216-4da5-be20-cf312df938ec",
   "metadata": {},
   "outputs": [],
   "source": []
  },
  {
   "cell_type": "code",
   "execution_count": null,
   "id": "fe0b960c-dc41-4b8c-b3f6-ae903ce63880",
   "metadata": {},
   "outputs": [],
   "source": []
  },
  {
   "cell_type": "code",
   "execution_count": null,
   "id": "7a7514b2-dd83-4155-a4bf-8c5f9f50966f",
   "metadata": {},
   "outputs": [],
   "source": [
    "data = {\n",
    "    'name': ['Alice', 'Bob', 'Charlie'],\n",
    "    'age': [24, 27, 22],\n",
    "    'city': ['New York', 'San Francisco', 'Los Angeles']\n",
    "}\n",
    "\n",
    "df = pd.DataFrame(data)\n",
    "print(df)"
   ]
  },
  {
   "cell_type": "code",
   "execution_count": null,
   "id": "a98d4279-5a7d-4e63-835d-bdf525967d18",
   "metadata": {},
   "outputs": [],
   "source": [
    "data = {\n",
    "    'name': ['Alice', 'Bob', 'Charlie'],\n",
    "    'age': [24, 27, 22],\n",
    "    'city': ['New York', 'San Francisco', 'Los Angeles']\n",
    "}\n",
    "\n",
    "df = pd.DataFrame(data)\n",
    "print(df)"
   ]
  },
  {
   "cell_type": "code",
   "execution_count": null,
   "id": "7fff0143-b1c8-462c-a29f-2e27bdec0612",
   "metadata": {},
   "outputs": [],
   "source": [
    "**Data Manipulation:**\n",
    "\n",
    "* **Filtering and Selection:** You can filter data based on conditions or select specific rows, columns, or subsets of the data.\n",
    "* **Indexing and Alignment:** DataFrames and Series come with automatic and flexible indexing, allowing for easy alignment of data across multiple tables or Series, even if they have different indices.\n",
    "* **Missing Data Handling:** Pandas provides robust methods for dealing with missing data, such as filling or dropping missing values (NaN).\n",
    "* **Data Transformation:** Pandas has numerous functions for transforming data, including aggregation, merging, reshaping, and sorting. These functions allow users to quickly perform common data manipulation tasks.\n",
    "* **GroupBy:** The groupby functionality allows for splitting data into groups based on some criteria and applying functions (e.g., sum, mean) to each group, making it useful for aggregating or summarizing data.\n",
    "\n",
    "**Data Import/Export:**\n",
    "\n",
    "* Pandas makes it easy to load data from various sources, such as CSV files, Excel spreadsheets, SQL databases, JSON, and even web-based data sources. Similarly, it can export data to multiple formats, such as CSV, Excel, and SQL databases.\n",
    "* **Data Visualization:** While not a full-fledged visualization library like Matplotlib or Seaborn, Pandas integrates well with these libraries and allows for basic plotting of data using simple .plot() methods. It is useful for quickly generating charts and visualizing trends in data.\n",
    "* **Performance:** Pandas is built on top of NumPy, so it is optimized for performance, particularly for large datasets. It can efficiently handle large-scale data manipulation tasks that would be slow or difficult in native Python.\n",
    "\n",
    "### 3.2.2 Common Pandas Functions and Methods\n",
    "\n",
    "**1) Loading Data:**"
   ]
  },
  {
   "cell_type": "code",
   "execution_count": null,
   "id": "4b1bfc5b-f834-4959-9b56-9bdaaed32aac",
   "metadata": {},
   "outputs": [],
   "source": [
    "import pandas as pd\n",
    "# create and save as csv\n",
    "df = pd.read_csv('data.csv')  # Load a CSV file into a DataFrame"
   ]
  },
  {
   "cell_type": "markdown",
   "id": "207a76be-0e68-4c6d-b83e-0de1c1f4c52b",
   "metadata": {},
   "source": [
    "**2) DataFrame Operations:**"
   ]
  },
  {
   "cell_type": "code",
   "execution_count": null,
   "id": "d05a4c7e-38a7-4681-b53b-6870116592fd",
   "metadata": {},
   "outputs": [],
   "source": [
    "print(df.head())         # View the first few rows of a DataFrame\n",
    "print(df.tail())         # View the last few rows of a DataFrame\n",
    "print(df.info())         # Get a summary of the DataFrame\n",
    "print(df.describe())     # Get statistical summaries of numerical columns\n",
    "print(df.columns)        # Get the column names of the DataFrame\n",
    "print(df.shape)         # Get the number of rows and columns (tuple)"
   ]
  },
  {
   "cell_type": "markdown",
   "id": "3b9ecbdd-014b-4bab-a7a5-4fee9d0390ef",
   "metadata": {},
   "source": [
    "**3) Data Selection:**"
   ]
  },
  {
   "cell_type": "code",
   "execution_count": null,
   "id": "7b9b020c-44cb-41ef-a163-125c10fda09f",
   "metadata": {},
   "outputs": [],
   "source": [
    "print(df['name'])            # Select a specific column\n",
    "print(df[['name', 'age']])   # Select multiple columns\n",
    "print(df.iloc[0])            # Select the first row by index (position-based)\n",
    "print(df.loc[0])             # Select the first row by label (index-based)\n",
    "print(df.iloc[0:2])          # First two rows\n",
    "print(df[df['age'] > 5])     # Filter rows based on a condition"
   ]
  },
  {
   "cell_type": "markdown",
   "id": "a8fc5203-b8da-4770-8fc2-e212d13b317e",
   "metadata": {},
   "source": [
    "**4) Data Aggregation:**"
   ]
  },
  {
   "cell_type": "code",
   "execution_count": null,
   "id": "2e881f8e-def5-4f6a-a6bd-5c23ffdd8d42",
   "metadata": {},
   "outputs": [],
   "source": [
    "print(df.groupby('column_name').sum())    # Group by a column and sum the values\n",
    "print(df.groupby('column_name').mean())   # Group by a column and calculate the mean"
   ]
  },
  {
   "cell_type": "markdown",
   "id": "339846f4-6921-4b8d-bb66-abfb681b52cc",
   "metadata": {},
   "source": [
    "**5) Missing Data Handling:**"
   ]
  },
  {
   "cell_type": "code",
   "execution_count": null,
   "id": "9eb896e6-27c3-4618-9e0c-64b647e9f6df",
   "metadata": {},
   "outputs": [],
   "source": [
    "print(df.isnull())         # Check for missing data\n",
    "print(df.dropna())         # Drop rows with missing values\n",
    "print(df.fillna(0))        # Fill missing values with a specific value"
   ]
  },
  {
   "cell_type": "markdown",
   "id": "18734098-0eb4-44f1-ade0-b76cb38c2a7a",
   "metadata": {},
   "source": [
    "**6) Merging and Joining:**"
   ]
  },
  {
   "cell_type": "code",
   "execution_count": null,
   "id": "e193e2e3-5166-4870-b29c-9a83968e05f5",
   "metadata": {},
   "outputs": [],
   "source": [
    "print(df1.merge(df2, on='key'))      # Merge two DataFrames on a common column\n",
    "print(df1.join(df2))                 # Join DataFrames on their index"
   ]
  },
  {
   "cell_type": "markdown",
   "id": "96f7c324-cd09-416a-9ea7-5c123d40c6fd",
   "metadata": {},
   "source": [
    "**7) Sorting Data:**"
   ]
  },
  {
   "cell_type": "code",
   "execution_count": null,
   "id": "95f26f63-93ff-4551-ba38-a79efefdd864",
   "metadata": {},
   "outputs": [],
   "source": [
    "# Sort by a single column\n",
    "df.sort_values(by='age', ascending=False, inplace=True)\n",
    "\n",
    "# Sort by multiple columns\n",
    "df.sort_values(by=['city', 'age'], ascending=[True, False], inplace=True)"
   ]
  },
  {
   "cell_type": "markdown",
   "id": "7d0e516a-ac07-4a0a-a60d-4be6ebe4e916",
   "metadata": {},
   "source": [
    "**8) Exporting Data:**"
   ]
  },
  {
   "cell_type": "code",
   "execution_count": null,
   "id": "ebf7a83b-ebd4-4e7e-9977-1f117d7fe6fe",
   "metadata": {},
   "outputs": [],
   "source": [
    "df.to_csv('output.csv')  # Save DataFrame to a CSV file\n",
    "df.to_excel('output.xlsx')  # Save DataFrame to an Excel file"
   ]
  },
  {
   "cell_type": "markdown",
   "id": "9c0890ca-fd19-48b2-ab65-8963c38b05e3",
   "metadata": {},
   "source": [
    "**Example Usage: Pandas can be used to load data, filter it, and perform some basic analysis**"
   ]
  },
  {
   "cell_type": "code",
   "execution_count": null,
   "id": "f64518de-1e29-4bd3-ae2c-823efc01b789",
   "metadata": {},
   "outputs": [],
   "source": [
    "import pandas as pd\n",
    "\n",
    "# Load data from a CSV file into a DataFrame\n",
    "df = pd.read_csv('sales_data.csv')\n",
    "\n",
    "# Preview the first 5 rows\n",
    "print(df.head())\n",
    "\n",
    "# Filter data for sales greater than $5000\n",
    "high_sales = df[df['sales'] > 5000]\n",
    "\n",
    "# Group data by product and calculate the average sales\n",
    "avg_sales_by_product = df.groupby('product')['sales'].mean()\n",
    "\n",
    "# Handle missing values by filling with zero\n",
    "df.fillna(0, inplace=True)\n",
    "\n",
    "# Save the processed data to a new CSV file\n",
    "df.to_csv('processed_sales_data.csv', index=False)"
   ]
  },
  {
   "cell_type": "markdown",
   "id": "4057a376-d798-48ea-817f-3aa2383970c1",
   "metadata": {},
   "source": [
    "## 3.3. Matplotlib and Seaborn (visualization)\n",
    "Matplotlib and Seaborn are two of the most popular libraries in Python for data visualization. They are often used to create static, animated, and interactive visualizations to help understand and interpret data more effectively.\n",
    "\n",
    "### 3.3.1. Matplotlib\n",
    "Matplotlib is a comprehensive and flexible library used to create a wide range of static, animated, and interactive plots in Python. It provides low-level functionality for creating almost any type of plot or graph, and it is the foundation upon which many other visualization libraries (like Seaborn) are built.\n",
    "\n",
    "**Example of Matplotlib Usage:**\n",
    "The following script will create a simple line plot with labeled axes, a title, and a grid."
   ]
  },
  {
   "cell_type": "code",
   "execution_count": null,
   "id": "ec9ab80c-c183-432b-8ae2-c7f6a62b5c94",
   "metadata": {},
   "outputs": [],
   "source": [
    "import matplotlib.pyplot as plt\n",
    "\n",
    "# Simple Line Plot\n",
    "x = [0, 1, 2, 3, 4, 5]\n",
    "y = [0, 1, 4, 9, 16, 25]\n",
    "\n",
    "plt.plot(x, y, label='y = x^2', color='blue', marker='o')  # Line plot\n",
    "plt.title('Simple Line Plot')  # Title of the plot\n",
    "plt.xlabel('x-axis')  # X-axis label\n",
    "plt.ylabel('y-axis')  # Y-axis label\n",
    "plt.legend()  # Show legend\n",
    "plt.grid(True)  # Show grid\n",
    "plt.show()"
   ]
  },
  {
   "cell_type": "markdown",
   "id": "b238e4a5-0c9a-4322-9563-a524897ed9b3",
   "metadata": {},
   "source": [
    "### 3.3.2. Seaborn\n",
    "Seaborn is built on top of Matplotlib and provides a higher-level interface for creating attractive and informative statistical graphics. While Matplotlib is more low-level and flexible, Seaborn is designed to work well with Pandas DataFrames and simplifies the process of creating complex visualizations. It comes with better default aesthetics and several functions tailored for statistical plots.\n",
    "\n",
    "**Example of Seaborn Usage:**\n",
    "In the following example, Seaborn creates a pairplot for the Iris dataset (a famous dataset with measurements for three species of flowers), coloring the points by the species."
   ]
  },
  {
   "cell_type": "code",
   "execution_count": null,
   "id": "97d71f8d-c49d-4d85-8218-c3364fdcd4e5",
   "metadata": {},
   "outputs": [],
   "source": [
    "import seaborn as sns\n",
    "import matplotlib.pyplot as plt\n",
    "\n",
    "# Load a built-in dataset from Seaborn (e.g., Iris dataset)\n",
    "data = sns.load_dataset('iris')\n",
    "\n",
    "# Create a pairplot (scatterplot matrix) with histograms on the diagonal\n",
    "sns.pairplot(data, hue='species', palette='coolwarm')\n",
    "\n",
    "# Show the plot\n",
    "plt.show()"
   ]
  },
  {
   "cell_type": "markdown",
   "id": "b00aa17a-b4e9-414a-9ab9-d9fb72267e7d",
   "metadata": {},
   "source": [
    "In the following example, Seaborn creates a heatmap from the correlation matrix."
   ]
  },
  {
   "cell_type": "code",
   "execution_count": null,
   "id": "796dbf50-96e4-4a2f-a4f7-f054e11415d8",
   "metadata": {},
   "outputs": [],
   "source": [
    "import seaborn as sns\n",
    "import matplotlib.pyplot as plt\n",
    "\n",
    "# Create a correlation matrix of a dataset\n",
    "data = sns.load_dataset('flights')\n",
    "pivot_data = data.pivot('month', 'year', 'passengers')\n",
    "\n",
    "# Plot a heatmap of the correlation matrix\n",
    "sns.heatmap(pivot_data, annot=True, cmap='YlGnBu', linewidths=.5)\n",
    "\n",
    "# Show the plot\n",
    "plt.show()"
   ]
  }
 ],
 "metadata": {
  "kernelspec": {
   "display_name": "Python 3 (ipykernel)",
   "language": "python",
   "name": "python3"
  },
  "language_info": {
   "codemirror_mode": {
    "name": "ipython",
    "version": 3
   },
   "file_extension": ".py",
   "mimetype": "text/x-python",
   "name": "python",
   "nbconvert_exporter": "python",
   "pygments_lexer": "ipython3",
   "version": "3.12.2"
  }
 },
 "nbformat": 4,
 "nbformat_minor": 5
}
